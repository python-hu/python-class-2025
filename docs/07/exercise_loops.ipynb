{
 "cells": [
  {
   "cell_type": "markdown",
   "metadata": {},
   "source": [
    "# 第7回：繰り返し処理（演習）\n",
    "\n",
    "学籍番号：...\n",
    "\n",
    "氏名：...\n",
    "\n",
    "---"
   ]
  },
  {
   "cell_type": "markdown",
   "metadata": {},
   "source": [
    "## 演習1:`for`文による繰り返し処理"
   ]
  },
  {
   "cell_type": "markdown",
   "metadata": {},
   "source": [
    "### 演習1-1\n",
    "以下の出力結果となるように`range`関数と`for`文を用いて処理を作成せよ．\n",
    "\n",
    "**出力**\n",
    "```python\n",
    "1\n",
    "3\n",
    "9\n",
    "27\n",
    "81\n",
    "243\n",
    "729\n",
    "2187\n",
    "6561\n",
    "```\n"
   ]
  },
  {
   "cell_type": "code",
   "execution_count": null,
   "metadata": {},
   "outputs": [],
   "source": [
    "# 解答用セル"
   ]
  },
  {
   "cell_type": "markdown",
   "metadata": {},
   "source": [
    "### 演習1-2\n",
    "`range`関数と`for`文を用いて以下の要素を持つリストを作成せよ．\n",
    "\n",
    "ヒント：`append`関数を使うとリストに要素を追加できる．\n",
    "\n",
    "**出力**\n",
    "```python\n",
    "[0, 3, 6, 9, 12, 15, 18, 21, 24, 27, 30]\n",
    "```\n"
   ]
  },
  {
   "cell_type": "code",
   "execution_count": null,
   "metadata": {},
   "outputs": [],
   "source": [
    "# 解答用セル"
   ]
  },
  {
   "cell_type": "markdown",
   "metadata": {},
   "source": [
    "### 演習1-3\n",
    "`for`文は文字列も繰り返すことができる．文字列`python`を作成し，リストの代わりに文字列を`for`文で繰り返した結果を確認せよ．正しく実行ができると以下の出力結果となるはずである．\n",
    "\n",
    "**出力**\n",
    "```python\n",
    "p\n",
    "y\n",
    "t\n",
    "h\n",
    "o\n",
    "n\n",
    "```\n"
   ]
  },
  {
   "cell_type": "code",
   "execution_count": null,
   "metadata": {},
   "outputs": [],
   "source": [
    "# 解答用セル"
   ]
  },
  {
   "cell_type": "markdown",
   "metadata": {},
   "source": [
    "### 演習1-4\n",
    "演習1-3をベースに文字列からの文字の取り出しと，繰り返し回数を同時に出力せよ．\n",
    "参考までに以下のような出力例が得られると良い．\n",
    "\n",
    "**出力**\n",
    "```python\n",
    "文字: p - 繰り返し回数: 1\n",
    "文字: y - 繰り返し回数: 2\n",
    "文字: t - 繰り返し回数: 3\n",
    "文字: h - 繰り返し回数: 4\n",
    "文字: o - 繰り返し回数: 5\n",
    "文字: n - 繰り返し回数: 6\n",
    "```\n"
   ]
  },
  {
   "cell_type": "code",
   "execution_count": null,
   "metadata": {},
   "outputs": [],
   "source": [
    "# 解答用セル"
   ]
  },
  {
   "cell_type": "markdown",
   "metadata": {},
   "source": [
    "## 演習2:繰り返し処理と条件分岐"
   ]
  },
  {
   "cell_type": "markdown",
   "metadata": {},
   "source": [
    "### 演習2-1\n",
    "5から25までの整数を出力する際に，その数が偶数であれば\"偶数\"，奇数であれば\"奇数\"と出力するプログラムを繰り返し処理を用いて作成せよ\n",
    "\n",
    "**出力**\n",
    "```python\n",
    "5: 奇数\n",
    "6: 偶数\n",
    "7: 奇数\n",
    "8: 偶数\n",
    "...\n",
    "25: 奇数\n",
    "```\n"
   ]
  },
  {
   "cell_type": "code",
   "execution_count": null,
   "metadata": {},
   "outputs": [],
   "source": [
    "# 解答用セル"
   ]
  },
  {
   "cell_type": "markdown",
   "metadata": {},
   "source": [
    "### 演習2-2\n",
    "以下の点数リストが与えられたとき，70点以上の点数を取った人は何人いるかを計算するプログラムを作成せよ．\n",
    "\n",
    "点数リスト: `[52, 91, 67, 88, 74, 60, 83, 70]`\n"
   ]
  },
  {
   "cell_type": "code",
   "execution_count": null,
   "metadata": {},
   "outputs": [],
   "source": [
    "# 解答用セル"
   ]
  },
  {
   "cell_type": "markdown",
   "metadata": {},
   "source": [
    "### 演習2-3\n",
    "以下の点数リストが与えられたとき，平均点を計算するプログラムを作成せよ．\n",
    "\n",
    "点数リスト: `[52, 91, 67, 88, 74, 60, 83, 70]`\n"
   ]
  },
  {
   "cell_type": "code",
   "execution_count": null,
   "metadata": {},
   "outputs": [],
   "source": [
    "# 解答用セル"
   ]
  },
  {
   "cell_type": "markdown",
   "metadata": {},
   "source": [
    "### 演習2-4\n",
    "文字列 `abracadabradabra` の中に含まれる `a` の数を繰り返し処理を用いて計算せよ．\n"
   ]
  },
  {
   "cell_type": "code",
   "execution_count": null,
   "metadata": {},
   "outputs": [],
   "source": [
    "# 解答用セル"
   ]
  },
  {
   "cell_type": "markdown",
   "metadata": {},
   "source": [
    "### 演習2-5\n",
    "以下の出力のように${1,2,...,999}$の数の中で$135$で割り切れる値をすべて出力せよ\n",
    "\n",
    "**出力**\n",
    "```python\n",
    "135\n",
    "270\n",
    "405\n",
    "540\n",
    "675\n",
    "810\n",
    "945\n",
    "```\n"
   ]
  },
  {
   "cell_type": "code",
   "execution_count": null,
   "metadata": {},
   "outputs": [],
   "source": [
    "# 解答用セル"
   ]
  },
  {
   "cell_type": "markdown",
   "metadata": {},
   "source": [
    "## 演習3:繰り返し処理と数列"
   ]
  },
  {
   "cell_type": "markdown",
   "metadata": {},
   "source": [
    "### 演習3-1\n",
    "1から15までの整数の総和（与えられた複数の数を全て足した和のこと）を求めるプログラムを`for`文を使用して作成せよ\n",
    "\n",
    "**出力**\n",
    "```python\n",
    "120\n",
    "```\n"
   ]
  },
  {
   "cell_type": "code",
   "execution_count": null,
   "metadata": {},
   "outputs": [],
   "source": [
    "# 解答用セル"
   ]
  },
  {
   "cell_type": "markdown",
   "metadata": {},
   "source": [
    "### 演習3-2\n",
    "1から6までの整数の総乗（与えられた複数の数を全て掛けた積のこと）を求めるプログラムを`for`文を使用して作成せよ\n",
    "\n",
    "**出力**\n",
    "```python\n",
    "720\n",
    "```\n"
   ]
  },
  {
   "cell_type": "code",
   "execution_count": null,
   "metadata": {},
   "outputs": [],
   "source": [
    "# 解答用セル"
   ]
  },
  {
   "cell_type": "markdown",
   "metadata": {},
   "source": [
    "### 演習3-3\n",
    "1から`n`までの整数の総和と総乗を求めるプログラムを`for`文を使用して作成せよ．\n",
    "\n",
    "ただし出力時は `n` に8以上の任意の値を代入せよ．\n",
    "\n",
    "**出力 (n=8の場合)**\n",
    "```python\n",
    "総和: 36\n",
    "総乗: 40320\n",
    "```\n"
   ]
  },
  {
   "cell_type": "code",
   "execution_count": null,
   "metadata": {},
   "outputs": [],
   "source": [
    "# 解答用セル"
   ]
  },
  {
   "cell_type": "markdown",
   "metadata": {},
   "source": [
    "### 演習3-4\n",
    "以下の式は奇数列 $1, 3, 5, 7, \\dots$ の $n$ 項までの総和を表す．\n",
    "\n",
    "$$\n",
    "S = \\sum_{k=1}^{n} (2k - 1)\n",
    "$$\n",
    "\n",
    "$n=12$ としたとき，この和 $S$ を繰り返し処理で求めよ．\n",
    "\n",
    "結果は次のようになるはずである．\n",
    "\n",
    "$$\n",
    "S = 1 + 3 + 5 + 7 + 9 + 11 + 13 + 15 + 17 + 19 + 21 + 23 = 144\n",
    "$$\n"
   ]
  },
  {
   "cell_type": "code",
   "execution_count": null,
   "metadata": {},
   "outputs": [],
   "source": [
    "# 解答用セル"
   ]
  },
  {
   "cell_type": "markdown",
   "metadata": {},
   "source": [
    "## 演習4:発展課題\n",
    "これ以降は発展的な演習課題となります． 解くことは必須ではありませんがぜひチャレンジしてみてください．"
   ]
  },
  {
   "cell_type": "markdown",
   "metadata": {},
   "source": [
    "### 演習4-1\n",
    "繰り返し処理を使って以下のようなピラミッドの文字列を出力を得よ．\n",
    "\n",
    "**出力**\n",
    "```:python\n",
    "     2\n",
    "    333\n",
    "   44444\n",
    "  5555555\n",
    " 666666666\n",
    "```\n"
   ]
  },
  {
   "cell_type": "code",
   "execution_count": null,
   "metadata": {},
   "outputs": [],
   "source": [
    "# 解答用セル"
   ]
  },
  {
   "cell_type": "markdown",
   "metadata": {},
   "source": [
    "### 演習4-2\n",
    "\n",
    "条件分岐の発展課題のFizzBuzz問題を繰り返し処理で拡張する．\n",
    "変数 `number` の値を `1` から `30` まで繰り返し，`number` が\n",
    "\n",
    "- `3` で割り切れて `5` で割り切れないときは「`Fizz`」と出力\n",
    "- `5` で割り切れて `3` で割り切れない時は「`Buzz`」と出力\n",
    "- 両方で割り切れるときは「`FizzBuzz`」と出力\n",
    "- 両方で割り切れないときは，入力した数をそのまま出力\n",
    "\n",
    "とされるような繰り返し処理を実装せよ．\n",
    "\n",
    "出力例は以下である．\n",
    "\n",
    "```:python\n",
    "1\n",
    "2\n",
    "Fizz\n",
    "4\n",
    "Buzz\n",
    "Fizz\n",
    "7\n",
    "8\n",
    "Fizz\n",
    "Buzz\n",
    "11\n",
    "Fizz\n",
    "13\n",
    "14\n",
    "FizzBuzz\n",
    "16\n",
    "17\n",
    "Fizz\n",
    "19\n",
    "Buzz\n",
    "Fizz\n",
    "22\n",
    "23\n",
    "Fizz\n",
    "Buzz\n",
    "26\n",
    "Fizz\n",
    "28\n",
    "29\n",
    "FizzBuzz\n",
    "```\n"
   ]
  },
  {
   "cell_type": "code",
   "execution_count": null,
   "metadata": {},
   "outputs": [],
   "source": [
    "# 解答用セル"
   ]
  }
 ],
 "metadata": {
  "kernelspec": {
   "display_name": "ml-py39",
   "language": "python",
   "name": "python3"
  },
  "language_info": {
   "codemirror_mode": {
    "name": "ipython",
    "version": 3
   },
   "file_extension": ".py",
   "mimetype": "text/x-python",
   "name": "python",
   "nbconvert_exporter": "python",
   "pygments_lexer": "ipython3",
   "version": "3.9.13"
  },
  "orig_nbformat": 4
 },
 "nbformat": 4,
 "nbformat_minor": 2
}
