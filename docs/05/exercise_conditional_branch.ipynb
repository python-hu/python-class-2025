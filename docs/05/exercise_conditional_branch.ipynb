{
 "cells": [
  {
   "cell_type": "markdown",
   "metadata": {},
   "source": [
    "# 第5回：条件分岐（演習）\n",
    "\n",
    "学籍番号：...\n",
    "\n",
    "氏名：...\n",
    "\n",
    "---"
   ]
  },
  {
   "cell_type": "markdown",
   "metadata": {},
   "source": [
    "## 演習1：真偽値と条件式\n",
    "\n",
    "### 例題\n",
    "\n",
    "「`temperature` が `25` より高い」を，比較演算子を用いて記述せよ．\n",
    "なお，変数 `temperature` にはあらかじめ条件式が「`True`」となる適当な数値を代入しておくこと．"
   ]
  },
  {
   "cell_type": "code",
   "execution_count": null,
   "metadata": {},
   "outputs": [
    {
     "data": {
      "text/plain": [
       "True"
      ]
     },
     "execution_count": 1,
     "metadata": {},
     "output_type": "execute_result"
    }
   ],
   "source": [
    "# 解答用セルの記入例\n",
    "temperature = 30\n",
    "\n",
    "temperature > 25"
   ]
  },
  {
   "cell_type": "markdown",
   "metadata": {},
   "source": [
    "### 演習1-1\n",
    "\n",
    "「`x` は `10` 以下である」を，比較演算子を用いて記述せよ．\n",
    "なお，変数 `x` にはあらかじめ条件式が「`True`」となる適当な数値を代入しておくこと．"
   ]
  },
  {
   "cell_type": "code",
   "execution_count": 2,
   "metadata": {},
   "outputs": [],
   "source": [
    "# 解答用セル\n"
   ]
  },
  {
   "cell_type": "markdown",
   "metadata": {},
   "source": [
    "### 演習1-2\n",
    "\n",
    "「`x` の絶対値は `5` より大きい」を，比較演算子を用いて記述せよ．\n",
    "なお，変数 `x` にはあらかじめ条件式が「`True`」となる適当な数値を代入しておくこと．\n",
    "\n",
    "**ヒント:** 絶対値を求めるには `abs()` 関数を使用する．"
   ]
  },
  {
   "cell_type": "code",
   "execution_count": 3,
   "metadata": {},
   "outputs": [],
   "source": [
    "# 解答用セル\n"
   ]
  },
  {
   "cell_type": "markdown",
   "metadata": {},
   "source": [
    "### 演習1-3\n",
    "\n",
    "「`word` は `\"Python\"` と等しい」を，比較演算子を用いて記述せよ．\n",
    "なお，変数 `word` にはあらかじめ条件式が「`True`」となる適当な文字列を代入しておくこと．"
   ]
  },
  {
   "cell_type": "code",
   "execution_count": 4,
   "metadata": {},
   "outputs": [],
   "source": [
    "# 解答用セル\n"
   ]
  },
  {
   "cell_type": "markdown",
   "metadata": {},
   "source": [
    "### 演習1-4\n",
    "\n",
    "「リスト `[10, 20, 30, 40, 50]` の中に `35` が含まれていない」を比較演算子を用いて記述せよ．"
   ]
  },
  {
   "cell_type": "code",
   "execution_count": 5,
   "metadata": {},
   "outputs": [],
   "source": [
    "# 解答用セル\n"
   ]
  },
  {
   "cell_type": "markdown",
   "metadata": {},
   "source": [
    "### 演習1-5\n",
    "\n",
    "「文字列 `\"Hello, World!\"` に文字列 `\"World\"` が含まれている」を比較演算子を用いて記述せよ．\n",
    "\n",
    "**出力例**\n",
    "\n",
    "```python\n",
    "True\n",
    "```"
   ]
  },
  {
   "cell_type": "code",
   "execution_count": 7,
   "metadata": {},
   "outputs": [],
   "source": [
    "# 解答用セル\n"
   ]
  },
  {
   "cell_type": "markdown",
   "metadata": {},
   "source": [
    "### 演習1-6\n",
    "\n",
    "「文字列 `text` の長さが5文字より長く，かつ10文字以下である」を，比較演算子と論理演算子を用いて記述せよ．\n",
    "なお，変数 `text` にはあらかじめ条件式が「`True`」となる適当な文字列を代入しておくこと．"
   ]
  },
  {
   "cell_type": "code",
   "execution_count": 9,
   "metadata": {},
   "outputs": [],
   "source": [
    "# 解答用セル\n"
   ]
  },
  {
   "cell_type": "markdown",
   "metadata": {},
   "source": [
    "## 演習2：`if`文\n",
    "\n",
    "### 演習2-1\n",
    "\n",
    "変数 `score` の値が `80` より高い場合，「優秀です」と表示するプログラムを書け．\n",
    "なお，変数 `score` には適当な値を代入しておき，プログラムの実行結果も表示せよ．\n",
    "\n"
   ]
  },
  {
   "cell_type": "code",
   "execution_count": 10,
   "metadata": {},
   "outputs": [],
   "source": [
    "# 解答用セル\n"
   ]
  },
  {
   "cell_type": "markdown",
   "metadata": {},
   "source": [
    "### 演習2-2\n",
    "\n",
    "変数 `number` の値が偶数の場合，「偶数です」と表示するプログラムを書け．\n",
    "なお，変数 `number` には適当な値を代入しておき，プログラムの実行結果も表示せよ．\n",
    "\n",
    "**ヒント:** 偶数は2で割り切れる数である．「割り切れる」を表現するためには，`a` を `3` で割った余りが `0` と等しくなればよい．\n",
    "余りの計算方法は [第1回](../01/introduction_and_setup.ipynb) または [第2回](../02/variables_and_data_types.ipynb) の教材を参照されたい．"
   ]
  },
  {
   "cell_type": "code",
   "execution_count": null,
   "metadata": {},
   "outputs": [],
   "source": [
    "# 解答用セル\n"
   ]
  },
  {
   "cell_type": "markdown",
   "metadata": {},
   "source": [
    "## 演習3：`if　... else`文\n",
    "\n",
    "### 演習3-1\n",
    "\n",
    "変数 `hour` の値が `12` 未満であれば「午前」，そうでなければ「午後」と表示するプログラムを作成せよ．\n",
    "なお，変数 `hour` には適当な値を代入しておき，プログラムの実行結果も表示せよ．"
   ]
  },
  {
   "cell_type": "code",
   "execution_count": 12,
   "metadata": {},
   "outputs": [],
   "source": [
    "# 解答用セル\n"
   ]
  },
  {
   "cell_type": "markdown",
   "metadata": {},
   "source": [
    "### 演習3-2\n",
    "\n",
    "変数 `number` の値が正の数であれば「正の数です」，そうでなければ「正の数ではありません」と表示するプログラムを作成せよ．\n",
    "なお，変数 `number` には適当な値を代入しておき，プログラムの実行結果も表示せよ．"
   ]
  },
  {
   "cell_type": "code",
   "execution_count": 13,
   "metadata": {},
   "outputs": [],
   "source": [
    "# 解答用セル\n"
   ]
  },
  {
   "cell_type": "markdown",
   "metadata": {},
   "source": [
    "## 演習4：`if ... elif ... else`文\n",
    "\n",
    "### 演習4-1\n",
    "\n",
    "変数 `grade` に成績(0〜100の整数)が格納されているとする．\n",
    "次の基準に従って評価を表示するプログラムを作成せよ．\n",
    "\n",
    "- 80以上:「優」\n",
    "- 60以上80未満:「良」\n",
    "- 40以上60未満:「可」\n",
    "- 40未満:「不可」\n",
    "\n",
    "なお，変数 `grade` には適当な値を代入しておき，プログラムの実行結果も表示せよ．"
   ]
  },
  {
   "cell_type": "code",
   "execution_count": 14,
   "metadata": {},
   "outputs": [],
   "source": [
    "# 解答用セル\n"
   ]
  },
  {
   "cell_type": "markdown",
   "metadata": {},
   "source": [
    "### 演習4-2\n",
    "\n",
    "変数 `temperature` に気温(℃)が格納されているとする．\n",
    "次の基準に従ってメッセージを表示するプログラムを作成せよ．\n",
    "\n",
    "- 30以上:「猛暑です」\n",
    "- 25以上30未満:「暑いです」\n",
    "- 15以上25未満:「過ごしやすいです」\n",
    "- 15未満:「寒いです」\n",
    "\n",
    "なお，変数 `temperature` には適当な値を代入しておき，プログラムの実行結果も表示せよ．"
   ]
  },
  {
   "cell_type": "code",
   "execution_count": null,
   "metadata": {},
   "outputs": [],
   "source": [
    "# 解答用セル\n"
   ]
  },
  {
   "cell_type": "markdown",
   "metadata": {},
   "source": [
    "## 演習5：複数条件の組み合わせ"
   ]
  },
  {
   "cell_type": "markdown",
   "metadata": {},
   "source": [
    "### 演習5-1\n",
    "\n",
    "変数 `x` の値が「10以上」かつ「20以下」の場合のみ「範囲内です」と表示し，そうでない場合は「範囲外です」と表示するプログラムを作成せよ．\n",
    "なお，変数 `x` には適当な値を代入しておき，プログラムの実行結果も表示せよ．"
   ]
  },
  {
   "cell_type": "code",
   "execution_count": 15,
   "metadata": {},
   "outputs": [],
   "source": [
    "# 解答用セル\n"
   ]
  },
  {
   "cell_type": "markdown",
   "metadata": {},
   "source": [
    "### 演習5-2\n",
    "\n",
    "変数 `fruit` に果物の名前(文字列)が格納されているとする．\n",
    "`fruit` が `\"apple\"`, `\"orange\"`, `\"banana\"` のいずれかである場合は「取り扱いがあります」，そうでない場合は「取り扱いがありません」と表示するプログラムを作成せよ．\n",
    "\n",
    "なお，変数 `fruit` には適当な果物名(文字列)を代入しておき，プログラムの実行結果も表示せよ．"
   ]
  },
  {
   "cell_type": "code",
   "execution_count": 16,
   "metadata": {},
   "outputs": [],
   "source": [
    "# 解答用セル\n"
   ]
  },
  {
   "cell_type": "markdown",
   "metadata": {},
   "source": [
    "## 演習6：発展課題\n",
    "\n",
    "これ以降は発展的な演習課題となります．\n",
    "解くことは必須ではありませんが，条件分岐を応用する良い練習になるので，ぜひチャレンジしてみてください．\n",
    "\n",
    "### 演習6-1：FizzBuzz問題\n",
    "\n",
    "変数 `number` の値に対し，次のことを出力せよ．\n",
    "\n",
    "- `3` で割り切れて `5` で割り切れないときは「`Fizz`」と出力\n",
    "- `5` で割り切れて `3` で割り切れない時は「`Buzz`」と出力\n",
    "- 両方で割り切れるときは「`FizzBuzz`」と出力\n",
    "- 両方で割り切れないときは，入力した数をそのまま出力\n",
    "\n",
    "なお，変数 `number` には適当な値を代入し，プログラムの実行結果も表示せよ．"
   ]
  },
  {
   "cell_type": "code",
   "execution_count": 17,
   "metadata": {},
   "outputs": [],
   "source": [
    "# 解答用セル\n"
   ]
  },
  {
   "cell_type": "markdown",
   "metadata": {},
   "source": [
    "### 演習6-2：3の倍数と3のつく数\n",
    "\n",
    "変数 `number` の値に対し，3の倍数と3のつく数の時だけ「3に関する数です」と出力するプログラムを作成せよ．なお，変数 `number` には適当な値を代入し，プログラムの実行結果も表示せよ．"
   ]
  },
  {
   "cell_type": "code",
   "execution_count": 18,
   "metadata": {},
   "outputs": [],
   "source": [
    "# 解答用セル\n"
   ]
  },
  {
   "cell_type": "markdown",
   "metadata": {},
   "source": [
    "### 演習6-3：三角形の判定\n",
    "\n",
    "変数 `a`, `b`, `c` に三角形の3辺の長さ(正の数)が格納されているとする．\n",
    "これらの値が三角形を構成できるかどうかを判定し，構成できる場合はさらに正三角形，二等辺三角形，不等辺三角形のいずれかを判定するプログラムを作成せよ．\n",
    "\n",
    "**三角形の条件:** 任意の2辺の和が残りの1辺より大きい\n",
    "- 正三角形: 3辺がすべて等しい\n",
    "- 二等辺三角形: 2辺が等しい\n",
    "- 不等辺三角形: すべての辺が異なる\n",
    "\n",
    "**ヒント:** まず三角形を構成できるか判定し，その後で三角形の種類を判定しよう．"
   ]
  },
  {
   "cell_type": "code",
   "execution_count": 19,
   "metadata": {},
   "outputs": [],
   "source": [
    "# 解答用セル\n"
   ]
  }
 ],
 "metadata": {
  "kernelspec": {
   "display_name": "Python 3.9.7 ('zeropro-book')",
   "language": "python",
   "name": "python3"
  },
  "language_info": {
   "codemirror_mode": {
    "name": "ipython",
    "version": 3
   },
   "file_extension": ".py",
   "mimetype": "text/x-python",
   "name": "python",
   "nbconvert_exporter": "python",
   "pygments_lexer": "ipython3",
   "version": "3.9.7"
  },
  "orig_nbformat": 4,
  "vscode": {
   "interpreter": {
    "hash": "13b92c06b6e5ed457c2ffbe8aafd0597ab041ad1a918995ab3a6bf23080bab16"
   }
  }
 },
 "nbformat": 4,
 "nbformat_minor": 2
}
