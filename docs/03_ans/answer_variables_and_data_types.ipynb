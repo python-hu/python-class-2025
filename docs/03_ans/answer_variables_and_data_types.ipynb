{
 "cells": [
  {
   "cell_type": "markdown",
   "metadata": {},
   "source": [
    "# 第3回：変数とデータ型（解答）"
   ]
  },
  {
   "cell_type": "markdown",
   "metadata": {},
   "source": [
    "## 演習：変数の代入・出力・型の確認"
   ]
  },
  {
   "cell_type": "markdown",
   "metadata": {},
   "source": [
    "### 演習1\n",
    "浮動小数点数 `3.14` を変数 `pi` に代入し，`print`文を利用して変数を出力せよ"
   ]
  },
  {
   "cell_type": "code",
   "execution_count": null,
   "metadata": {},
   "outputs": [],
   "source": [
    "# 解答\n",
    "pi = 3.14\n",
    "print(pi)"
   ]
  },
  {
   "cell_type": "markdown",
   "metadata": {},
   "source": [
    "### 演習2\n",
    "文字列 `Hello, World!` を変数 `greeting` に代入し，`print`文を利用して変数を出力せよ"
   ]
  },
  {
   "cell_type": "code",
   "execution_count": null,
   "metadata": {},
   "outputs": [],
   "source": [
    "# 解答\n",
    "greeting = 'Hello, World!'\n",
    "print(greeting)"
   ]
  },
  {
   "cell_type": "markdown",
   "metadata": {},
   "source": [
    "### 演習3\n",
    "文字列 `広島大学` を変数 `university` に代入し，`print`文を利用して変数を出力せよ"
   ]
  },
  {
   "cell_type": "code",
   "execution_count": null,
   "metadata": {},
   "outputs": [],
   "source": [
    "# 解答\n",
    "university = '広島大学'\n",
    "print(university)"
   ]
  },
  {
   "cell_type": "markdown",
   "metadata": {},
   "source": [
    "### 演習4\n",
    "リスト `[1, 2, 3, 4, 5]` を変数 `numbers` に代入し，`print`文を利用して変数を出力せよ"
   ]
  },
  {
   "cell_type": "code",
   "execution_count": null,
   "metadata": {},
   "outputs": [],
   "source": [
    "# 解答\n",
    "numbers = [1,2,3,4,5]\n",
    "print(numbers)"
   ]
  },
  {
   "cell_type": "markdown",
   "metadata": {},
   "source": [
    "### 演習5\n",
    "リスト `[1, \"one\", \"1\"]` を変数 `one` に代入し，その変数の型を確認せよ\n",
    "またリストのインデキシングを用いてリストの各要素の型を確認せよ"
   ]
  },
  {
   "cell_type": "code",
   "execution_count": null,
   "metadata": {},
   "outputs": [],
   "source": [
    "# 解答\n",
    "one = [1, \"one\", \"1\"]\n",
    "\n",
    "print(type(one))\n",
    "print(type(one[0]))\n",
    "print(type(one[1]))\n",
    "print(type(one[2]))"
   ]
  },
  {
   "cell_type": "markdown",
   "metadata": {},
   "source": [
    "## 演習：数値データの演算\n"
   ]
  },
  {
   "cell_type": "markdown",
   "metadata": {},
   "source": [
    "### 演習1\n",
    "整数値13が格納された変数`a`と整数値4が格納された変数`b`をそれぞれ定義し，`a`を`b`で割ったときの余りを出力せよ\n",
    "\n",
    "**出力例**\n",
    "```python\n",
    "1\n",
    "```"
   ]
  },
  {
   "cell_type": "code",
   "execution_count": null,
   "metadata": {},
   "outputs": [],
   "source": [
    "# 解答例 1\n",
    "a = 13\n",
    "b = 4\n",
    "print(a % b)"
   ]
  },
  {
   "cell_type": "code",
   "execution_count": null,
   "metadata": {},
   "outputs": [],
   "source": [
    "# 解答例 2\n",
    "a = 13\n",
    "b = 4\n",
    "c = a % b\n",
    "print(c)"
   ]
  },
  {
   "cell_type": "markdown",
   "metadata": {},
   "source": [
    "### 演習2\n",
    "整数値13が格納された変数`a`と整数値4が格納された変数`b`をそれぞれ定義し，$a^b$の結果を出力せよ\n",
    "\n",
    "**出力例**\n",
    "```python\n",
    "28561\n",
    "```"
   ]
  },
  {
   "cell_type": "code",
   "execution_count": null,
   "metadata": {},
   "outputs": [],
   "source": [
    "# 解答例 1\n",
    "a = 13\n",
    "b = 4\n",
    "print(a ** b)"
   ]
  },
  {
   "cell_type": "code",
   "execution_count": null,
   "metadata": {},
   "outputs": [],
   "source": [
    "# 解答例 2\n",
    "a = 13\n",
    "b = 4\n",
    "c = a ** b\n",
    "print(c)"
   ]
  },
  {
   "cell_type": "markdown",
   "metadata": {},
   "source": [
    "### 演習3\n",
    "$x^2 + 2x + 1$ に $x=1$ を代入したときの結果を求めよ．"
   ]
  },
  {
   "cell_type": "code",
   "execution_count": null,
   "metadata": {},
   "outputs": [],
   "source": [
    "# 解答例\n",
    "x = 1\n",
    "result = x**2 + 2*x + 1\n",
    "print(result)"
   ]
  },
  {
   "cell_type": "markdown",
   "metadata": {},
   "source": [
    "### 演習4\n",
    "$\\frac{a+b+c}{3}$ に $a=1, b=2, c=3$ を代入したときの結果を求めよ．"
   ]
  },
  {
   "cell_type": "code",
   "execution_count": null,
   "metadata": {},
   "outputs": [],
   "source": [
    "# 解答例\n",
    "a = 1\n",
    "b = 2\n",
    "c = 3\n",
    "result = (a + b + c) / 3\n",
    "print(result)"
   ]
  },
  {
   "cell_type": "markdown",
   "metadata": {},
   "source": [
    "### 演習5\n",
    "底辺が5cm，高さが10cmのときの三角形の面積を求めよ．"
   ]
  },
  {
   "cell_type": "code",
   "execution_count": null,
   "metadata": {},
   "outputs": [],
   "source": [
    "area = 0.5 * 5 * 10\n",
    "print(area)"
   ]
  },
  {
   "cell_type": "markdown",
   "metadata": {},
   "source": [
    "## 演習：文字列とリスト"
   ]
  },
  {
   "cell_type": "markdown",
   "metadata": {},
   "source": [
    "### 演習1\n",
    "文字列 \"Hello\" と \"World\" を格納した変数をそれぞれ定義して，これらを連結した結果を出力せよ．\n",
    "\n",
    "**出力例**\n",
    "```python\n",
    "HelloWorld\n",
    "```"
   ]
  },
  {
   "cell_type": "code",
   "execution_count": null,
   "metadata": {},
   "outputs": [],
   "source": [
    "# 解答\n",
    "s1 = \"Hello\"\n",
    "s2 = \"World\"\n",
    "result = s1 + s2\n",
    "print(result)"
   ]
  },
  {
   "cell_type": "markdown",
   "metadata": {},
   "source": [
    "### 演習2\n",
    "以下の出力例となるような文字列を含むリストを作成せよ\n",
    "\n",
    "**出力例**\n",
    "```python\n",
    "['one', 'two', 'three']\n",
    "```"
   ]
  },
  {
   "cell_type": "code",
   "execution_count": null,
   "metadata": {},
   "outputs": [],
   "source": [
    "# 解答\n",
    "s = \"one,two,three\"\n",
    "s_split = [s[:3], s[4:7], s[8:]]\n",
    "print(s_split)"
   ]
  },
  {
   "cell_type": "markdown",
   "metadata": {},
   "source": [
    "### 演習3\n",
    "文字列 \"abcdefghijklmn\" から偶数インデックスの文字だけを取り出し，その結果を出力せよ．\n",
    "\n",
    "**出力例**\n",
    "```python\n",
    "acegikm\n",
    "```"
   ]
  },
  {
   "cell_type": "code",
   "execution_count": null,
   "metadata": {},
   "outputs": [],
   "source": [
    "# 解答\n",
    "even = \"abcdefghijklmn\"\n",
    "print(even[::2])"
   ]
  },
  {
   "cell_type": "markdown",
   "metadata": {},
   "source": [
    "### 演習4\n",
    "文字列 \"543212345\" の中央の文字を取り出し，その結果を出力せよ．ただし文字列の長さは奇数であるとする．\n",
    "\n",
    "**出力例**\n",
    "```python\n",
    "1\n",
    "```"
   ]
  },
  {
   "cell_type": "code",
   "execution_count": null,
   "metadata": {},
   "outputs": [],
   "source": [
    "# 解答\n",
    "c = \"543212345\"\n",
    "print(c[len(c) // 2])"
   ]
  },
  {
   "cell_type": "markdown",
   "metadata": {},
   "source": [
    "### 演習5\n",
    "`insert`と`remove`を用いてリスト `[1, 2, 3, 4, 5]` を1つ右に回転させよ．すなわち，出力例のように最後の要素が最初に移動する．\n",
    "\n",
    "**出力例**\n",
    "```python\n",
    "[5, 1, 2, 3, 4]\n",
    "```"
   ]
  },
  {
   "cell_type": "code",
   "execution_count": null,
   "metadata": {},
   "outputs": [],
   "source": [
    "# 解答\n",
    "l = [1, 2, 3, 4, 5]\n",
    "last = l[-1]\n",
    "l.remove(last)\n",
    "l.insert(0, last)\n",
    "print(l)"
   ]
  }
 ],
 "metadata": {
  "kernelspec": {
   "display_name": "Python 3 (ipykernel)",
   "language": "python",
   "name": "python3"
  },
  "language_info": {
   "codemirror_mode": {
    "name": "ipython",
    "version": 3
   },
   "file_extension": ".py",
   "mimetype": "text/x-python",
   "name": "python",
   "nbconvert_exporter": "python",
   "pygments_lexer": "ipython3",
   "version": "3.9.13"
  },
  "vscode": {
   "interpreter": {
    "hash": "393df73654aeede13ebb91076020de1190a2bd60e987ac18d822283f0caa6730"
   }
  }
 },
 "nbformat": 4,
 "nbformat_minor": 2
}
