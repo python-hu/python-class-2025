{
 "cells": [
  {
   "cell_type": "markdown",
   "metadata": {},
   "source": [
    "# 第6回：繰り返し処理（講義）\n",
    "担当：相澤宏旭"
   ]
  },
  {
   "cell_type": "markdown",
   "metadata": {},
   "source": [
    "## 内容\n",
    "第6回 繰り返し処理では，ある処理を条件式に基づき繰り返す処理について学ぶ．プログラムにおいて繰り返し処理はリストなど複数のデータ値を持つ変数に対する演算処理，ユーザ入力の待機時間の実装など様々な場面で利用される．さらに，第4回で学んだ条件分岐と組み合わせることで，指定した条件が満たされたとき繰り返し処理を停止させたりするなど，処理をより複雑に制御できるようになる．このような処理を実現するために，Pythonでは `for`文や`while`文がサポートされている．具体的に，これらの文法について以下を学ぶ．\n",
    "\n",
    "- 一定回数繰り返すまたは条件に応じて処理を反復するための，`for`文と`while`文の基本文法を理解する．\n",
    "- 繰り返し処理を強制的に制御する`break`と`continue`の文法を学び，その動作を確認する．\n",
    "- Pythonに実装されているより実用的な繰り返し処理を学ぶ．"
   ]
  },
  {
   "cell_type": "markdown",
   "metadata": {},
   "source": [
    "## 繰り返し処理とは？\n",
    "繰り返し処理とは，言葉の通り，ある処理を複数回繰り返す処理である．前述したように，繰り返し処理によって，特定の処理を複数回反復することができ，また条件分岐と繰り返し処理を組み合わせることで，より複雑なプログラムを実装することができる．何より，繰り返し処理によって，複数回同じプログラムを記述する必要がなくなるため，コードの可読性を改善し，コード量も減らすことができる．\n",
    "\n",
    "では，以降で繰り返し処理の問題場面を確認しよう．"
   ]
  },
  {
   "cell_type": "markdown",
   "metadata": {},
   "source": [
    "## 繰り返し処理の利用場面\n",
    "第2回の講義で学んだリストの各要素に対して何らかの処理を加えて`print`で出力する場面を考える．例えば，以下のような曜日の文字列が格納されたリストを与えられ，`今日は...です`と要素を出力することを考える．このとき繰り返し処理を利用しなければ，以下のようなインデックスによる出力方法が考えられる．"
   ]
  },
  {
   "cell_type": "code",
   "execution_count": 1,
   "metadata": {},
   "outputs": [],
   "source": [
    "days = ['月曜日', '火曜日', '水曜日', '木曜日', '金曜日', '土曜日', '日曜日']"
   ]
  },
  {
   "cell_type": "code",
   "execution_count": null,
   "metadata": {},
   "outputs": [],
   "source": [
    "print(f'今日は{days[0]}です')\n",
    "print(f'今日は{days[1]}です')\n",
    "print(f'今日は{days[2]}です')\n",
    "print(f'今日は{days[3]}です')\n",
    "print(f'今日は{days[4]}です')\n",
    "print(f'今日は{days[5]}です')\n",
    "print(f'今日は{days[6]}です')"
   ]
  },
  {
   "cell_type": "markdown",
   "metadata": {},
   "source": [
    "このように愚直に`print`文を要素数だけ記述すると各要素に対して何らかの演算と出力できる．\n",
    "\n",
    "続いて，平日の場合は`...は平日です`，休日の場合は`...は休日です`と出力することを考える．同様に`print`文を使って以下のように書ける．"
   ]
  },
  {
   "cell_type": "code",
   "execution_count": null,
   "metadata": {},
   "outputs": [],
   "source": [
    "print(f'{days[0]}は平日です')\n",
    "print(f'{days[1]}は平日です')\n",
    "print(f'{days[2]}は平日です')\n",
    "print(f'{days[3]}は平日です')\n",
    "print(f'{days[4]}は平日です')\n",
    "print(f'{days[5]}は休日です')\n",
    "print(f'{days[6]}は休日です')"
   ]
  },
  {
   "cell_type": "markdown",
   "metadata": {},
   "source": [
    "しかしながら，このような`print`文による処理は問題がある．わかりやすい問題点をいくつか述べると，\n",
    "\n",
    "1. 要素数が増えると`print`文の行数が増えること\n",
    "2. 要素の順番が可変の場合は`print`文を修正する必要があること\n",
    "3. 要素の数が可変の場合は`print`文では対処しきれないこと\n",
    "\n",
    "が挙げられる．このような問題をスマートに解決する方法が繰り返し処理である．"
   ]
  },
  {
   "cell_type": "markdown",
   "metadata": {},
   "source": [
    "## `for`文\n",
    "\n",
    "![](figs/for.png)\n",
    "\n",
    "前述した例のように，リストの各要素に対して順番に処理を適用したいとき，そのような場面で利用されるのが `for`文である．一般的な `for`文の構文は以下である．\n",
    "\n",
    "```python\n",
    "for 要素を保存する仮変数 in リスト:\n",
    "    繰り返される処理\n",
    "```\n",
    "\n",
    "ここで，`for`文では繰り返される処理をインデントによるコードブロックで記述している．インデントの詳細については[第4回 条件分岐](https://ground-zero-programming.github.io/zero-pro2024-public/docs/04/conditional_branch.html#id10)を参照されたい．\n",
    "\n",
    "もちろん，リストだけでなく，辞書やタプルといったデータ型も繰り返すことができる．\n",
    "\n",
    "では，使用例として曜日を要素として格納した`days`リストの各要素を出力する．"
   ]
  },
  {
   "cell_type": "code",
   "execution_count": null,
   "metadata": {},
   "outputs": [],
   "source": [
    "for day in days:\n",
    "    print(day)"
   ]
  },
  {
   "cell_type": "markdown",
   "metadata": {},
   "source": [
    "出力結果からもわかるように，リストの各要素に対して`print`文を書くことなく，すべての要素を出力できている．\n",
    "\n",
    "続いて，各要素に処理を加えて出力する場合を確認する．前述のように，`今日は...です`と文字列を加える処理を`for`文で記述する．"
   ]
  },
  {
   "cell_type": "code",
   "execution_count": null,
   "metadata": {},
   "outputs": [],
   "source": [
    "for day in days:\n",
    "    print(f'今日は{day}です')"
   ]
  },
  {
   "cell_type": "markdown",
   "metadata": {},
   "source": [
    "このようにコードの行数を削減できるだけでなく，リストの要素数が可変であっても処理できることが繰り返し処理の利点である．\n",
    "\n",
    "最後に，平日の場合は`...は平日です`，休日の場合は`...は休日です`と出力するプログラムを条件分岐と組み合わせて作成する．"
   ]
  },
  {
   "cell_type": "code",
   "execution_count": null,
   "metadata": {},
   "outputs": [],
   "source": [
    "for day in days:\n",
    "    if day in ['月曜日', '火曜日', '水曜日', '木曜日', '金曜日']:\n",
    "        print(f'{day}は平日です')\n",
    "    elif day in ['土曜日', '日曜日']:\n",
    "        print(f'{day}は休日です')"
   ]
  },
  {
   "cell_type": "markdown",
   "metadata": {},
   "source": [
    "このプログラムでは `days` から各要素を順番に `day` に取り出し，`day` の中身が平日の要素 `['月曜日', '火曜日', '水曜日', '木曜日', '金曜日']` か休日の要素 `['土曜日', '日曜日']` かを `in` 演算子で条件分岐を行い，その結果に応じた文字列を出力している．\n",
    "\n",
    "このように，繰り返し処理は条件分岐と組み合わせることで非常に柔軟な処理を実現できる．"
   ]
  },
  {
   "cell_type": "markdown",
   "metadata": {},
   "source": [
    "```{caution}\n",
    "利用場面として紹介した特定の処理を予め予想し固定の処理としてコーディングすることは**ハードコーディング**と呼ばれバグの温床となる．今回の場合では悪い例として要素数を固定して`print`文で出力したが，`for`文を使って要素数や順番が可変であっても対応できるコーディングをすることが望まれる．\n",
    "```"
   ]
  },
  {
   "cell_type": "markdown",
   "metadata": {},
   "source": [
    "```{tip}\n",
    "発展的な内容であるが`for`文などの繰り返し処理に利用できるオブジェクトは**イテラブル**オブジェクト（itarable object）と呼ばれる．イテラブルオブジェクトとして代表的なデータ型はリスト，タプル，辞書，文字列である．これらのオブジェクトは`for`文で上記のように利用できる．一方で，数値データや論理値はイテラブルでないオブジェクトである．\n",
    "```"
   ]
  },
  {
   "cell_type": "markdown",
   "metadata": {},
   "source": [
    "### `range`関数\n",
    "前述の`for`文の例では，繰り返し処理のために曜日や集合の要素が格納されたリストを予め作成する必要があった．\n",
    "\n",
    "しかしながら，例えば，$1000$回繰り返し処理をしたいとき，$1000$個の値が格納されたリスト\n",
    "\n",
    "```\n",
    "num_list = [0, 1, ..., 999]\n",
    "```\n",
    "\n",
    "を定義しなければならない．説明のため，`...`としたが，実際は，前述までの例のように愚直にリストに値を格納する必要があり，非常に手間がかかる．\n",
    "\n",
    "そこで，このような一定回数だけ処理を繰り返したい場面のために，Pythonでは`range`関数がサポートされている．この`range`関数は任意の回数反復可能な整数列を作成できる．\n",
    "\n",
    "`range`関数は以下のように利用できる．\n",
    "\n",
    "```python\n",
    "for 仮変数 in range(start, end, step):\n",
    "    繰り返される処理\n",
    "```\n",
    "\n",
    "ここで，`start`は開始時の数，`end`は反復回数，`step`は一定回数ごとにスキップする数である．"
   ]
  },
  {
   "cell_type": "markdown",
   "metadata": {},
   "source": [
    "\n",
    "```{tip}\n",
    "`range`文ではデフォルト引数として`start=0`と`step=1`が指定されているため，`start`と`step`は省略できる．そのため，`range(0,n,1)`は`range(n)`と書くことができる．`range`関数は`for`や`while`と同様に組み込み関数と呼ばれる．デフォルト引数や関数は第8回 関数とスコープで紹介するので，`print`文や`if`文のようにまずは使い方だけを習得してほしい．\n",
    "```"
   ]
  },
  {
   "cell_type": "markdown",
   "metadata": {},
   "source": [
    "以下，`range`関数のサンプルコードである．例えば，`range(0,10,1)`は0から9までの整数列を返す処理となる．\n",
    "`range`関数の`start`，`end`，`step`を変更し，挙動を確認されたい．"
   ]
  },
  {
   "cell_type": "code",
   "execution_count": null,
   "metadata": {},
   "outputs": [],
   "source": [
    "for i in range(0,10,1):\n",
    "    print(i)"
   ]
  },
  {
   "cell_type": "code",
   "execution_count": null,
   "metadata": {},
   "outputs": [],
   "source": [
    "for i in range(10):\n",
    "    print(i)"
   ]
  },
  {
   "cell_type": "code",
   "execution_count": null,
   "metadata": {},
   "outputs": [],
   "source": [
    "for i in range(5,10):\n",
    "    print(i)"
   ]
  },
  {
   "cell_type": "code",
   "execution_count": null,
   "metadata": {},
   "outputs": [],
   "source": [
    "for i in range(0,10,2):\n",
    "    print(i)"
   ]
  },
  {
   "cell_type": "markdown",
   "metadata": {},
   "source": [
    "よく利用されるテクニックとして`range`関数によるリストのインデキシングがある．例えば，`len`関数でリストの要素数を取得できるので，以下のように`range`関数を定義すると，インデックスによるリストの走査ができる．"
   ]
  },
  {
   "cell_type": "code",
   "execution_count": null,
   "metadata": {},
   "outputs": [],
   "source": [
    "for i in range(len(days)):\n",
    "    print(days[i])"
   ]
  },
  {
   "cell_type": "markdown",
   "metadata": {},
   "source": [
    "前述の例であるがリストは反復可能なデータ型なので以下のコードのようにも書ける．上記のコードは以下と同じである．"
   ]
  },
  {
   "cell_type": "code",
   "execution_count": null,
   "metadata": {},
   "outputs": [],
   "source": [
    "for i in days:\n",
    "    print(i)"
   ]
  },
  {
   "cell_type": "markdown",
   "metadata": {},
   "source": [
    "```{admonition} for文のまとめ\n",
    "- `for`文はリストなどの複数要素を繰り返すときに便利である．\n",
    "- `for`文の処理はインデントを使って記述する必要がある．\n",
    "- `range`関数を利用することで一定回数だけ繰り返す処理を実装できる．\n",
    "```"
   ]
  },
  {
   "cell_type": "markdown",
   "metadata": {},
   "source": [
    "## `while`文\n",
    "\n",
    "![](figs/while.png)\n",
    "\n",
    "Pythonでは`for`文以外にもいくつかの繰り返し処理が実装されている．その中でも代表的な繰り返し処理が条件式が`True`である間，処理を繰り返す`while`文である．条件式については[第4回 条件分岐](../04/conditional_branch.html)を参照されたい．\n",
    "\n",
    "`while`文の構文は以下である．\n",
    "\n",
    "```python\n",
    "while 条件式:\n",
    "    条件式がTrueである間, 繰り返される処理\n",
    "```\n",
    "\n",
    "`for`文との違いは，`for`文はあるオブジェクトの要素数分または`range`関数による一定回数の繰り返し処理に対して，`while`文はある条件が`True`の間処理を繰り返す．ただし，利用場面の違いはあるが`for`文であっても条件式に基づいた繰り返し処理を実装でき，`while`文についても一定回数後に繰り返しを終了するよう実装できる．このような書き換えは，後述する`break`文や条件分岐処理を使って実現できる．"
   ]
  },
  {
   "cell_type": "markdown",
   "metadata": {},
   "source": [
    "`while`文の挙動を実例から確認しよう．\n",
    "\n",
    "以下の`while`文は変数`count`が$0$以上のとき`True`となる条件式`count >= 0`に基づいて繰り返される．条件式が`True`の間は`count`の値の出力と繰り返されるたびに`count`の変数を$-1$する処理が実行される．`count`の値が繰り返すたびに減少するため，処理が`count`$+1$回分行われると`count`の中身は負の値となり繰り返し処理が停止する．"
   ]
  },
  {
   "cell_type": "code",
   "execution_count": null,
   "metadata": {},
   "outputs": [],
   "source": [
    "count = 10\n",
    "while count >= 0:\n",
    "    print(count)\n",
    "    count -= 1"
   ]
  },
  {
   "cell_type": "markdown",
   "metadata": {},
   "source": [
    "```{important}\n",
    "上記のコードにおいて`count`を処理のたびに$-1$しない処理を考える．このとき，`count`の値が減少しないため，`while`文は強制的にプログラムを停止しない限り繰り返し処理が続く．このような意図せず実行された，終わらない繰り返しは**無限ループ**と呼ばれる．プログラミングのテクニックとして，無限ループはユーザ入力の待機待ちの実装等で利用されることもあるが，繰り返し（ループ）が終了する条件もプログラムされている．Google Colabでは**Ctrl+C**や**Interrupt**ボタンを押さない限り動作し続けるため注意されたい．\n",
    "```"
   ]
  },
  {
   "cell_type": "markdown",
   "metadata": {},
   "source": [
    "## `break`文による繰り返しの終了\n",
    "\n",
    "![](figs/break.png)\n",
    "\n",
    "`for/while`文で，繰り返し（**ループ**）を中断したいとき，`break`文を使用する．これによって，前述の無限ループのように「Ctrl+C」や「Interrupt」ボタンを押すことなく，無限ループを強制的に終了させることができる．\n",
    "\n",
    "`break`文は，例えば，何回繰り返すか決まっていない繰り返しで，ある条件式が満たされたら繰り返しを終了させたい場面で有効である．一般的に，以下のように利用される．\n",
    "\n",
    "```python\n",
    "while 繰り返しの条件式:\n",
    "    繰り返しの条件式がTrueの間, 繰り返される処理\n",
    "    if 繰り返しを終了させる条件式:\n",
    "        break\n",
    "```"
   ]
  },
  {
   "cell_type": "markdown",
   "metadata": {},
   "source": [
    "以下の`while`文による繰り返しに与えられる条件式は`True`の条件式であり，中断処理をしない限り繰り返しが続く．ここでは `break`文の使用例として，繰り返しの外で変数 `i` を定義し，繰り返すたびに繰り返し内の処理として条件式の判定を行う．内部の条件式は `i` が $0$ 未満となったとき繰り返しを強制的に抜ける `break`文を実行し，`i` が $0$ 以上のとき `i` を $-1$ する処理である．"
   ]
  },
  {
   "cell_type": "code",
   "execution_count": null,
   "metadata": {},
   "outputs": [],
   "source": [
    "i = 10\n",
    "while True:\n",
    "    if i < 0:\n",
    "        break\n",
    "    else:\n",
    "        print(i)\n",
    "        i -= 1"
   ]
  },
  {
   "cell_type": "markdown",
   "metadata": {},
   "source": [
    "このように繰り返し内部に条件式と`break`文を設けることで無限繰り返しによる処理を実装できる．"
   ]
  },
  {
   "cell_type": "markdown",
   "metadata": {},
   "source": [
    "```{important}\n",
    "`break`文は`while`文内だけでなく`for`文でも利用できる．\n",
    "```"
   ]
  },
  {
   "cell_type": "markdown",
   "metadata": {},
   "source": [
    "## `continue`文による次の繰り返しの開始\n",
    "\n",
    "![](figs/continue.png)\n",
    "\n",
    "`continue`文は，繰り返しを終了することなく，その後の処理をスキップして次の繰り返しに進むことができる．条件式を満たすとき，処理1を実行するが，処理2は実行しない繰り返し文を実行したいとき以下のように`continue`を利用する．\n",
    "\n",
    "```python\n",
    "while 繰り返しの条件式:\n",
    "    処理1\n",
    "    if 処理2をスキップさせる条件式:\n",
    "        continue\n",
    "    処理2\n",
    "```"
   ]
  },
  {
   "cell_type": "markdown",
   "metadata": {},
   "source": [
    "`continue`文の利用場面として，例えば，整数のリストを与えられ，偶数の要素だけ表示するプログラムを考える．以下がそのコードとなるので確認されたい．"
   ]
  },
  {
   "cell_type": "code",
   "execution_count": null,
   "metadata": {},
   "outputs": [],
   "source": [
    "nums = [1, 2, 3, 4, 5, 6, 7, 8, 9, 10, 11]\n",
    "\n",
    "i = 0\n",
    "while i < len(nums):\n",
    "    if nums[i] % 2 != 0:\n",
    "        i += 1\n",
    "        continue\n",
    "    print(nums[i])\n",
    "    i += 1"
   ]
  },
  {
   "cell_type": "markdown",
   "metadata": {},
   "source": [
    "上記のコードの`while`文は繰り返し回数`i`が整数リスト`num`の要素数`len(nums)`より小さいとき`True`となる条件式\n",
    "\n",
    "```\n",
    "i < len(nums)\n",
    "```\n",
    "\n",
    "に基づいて繰り返される．つまりはリストの要素数だけ繰り返す処理となっている．\n",
    "\n",
    "そして，繰り返し内では`i`番目のリストの要素`nums[i]`について$2$で割り切れるかを判定する．これは以下のコードである\n",
    "\n",
    "```\n",
    "if nums[i] % 2 != 0:\n",
    "```\n",
    "\n",
    "ここで，$2$で割り切れないとき，つまり，奇数であるとき，`i`を$+1$して`continue`する．このとき，`continue`後の処理`print`が実行されていないことを確認されたい．\n",
    "\n",
    "一方で，$2$で割り切れるとき，つまり，偶数であるとき，`print`文で`i`番目のリストの要素`nums[i]`を出力し，`i`を$+1$して次の繰り返し処理に進む．"
   ]
  },
  {
   "cell_type": "markdown",
   "metadata": {},
   "source": [
    "```{important}\n",
    "`continue`文は`while`文内だけでなく`for`文でも利用できる．\n",
    "```"
   ]
  },
  {
   "cell_type": "markdown",
   "metadata": {},
   "source": [
    "```{admonition} while文のまとめ\n",
    "- `while`文は条件式が`True`のとき処理を繰り返す．\n",
    "- `break`文や`continue`文を組み合わせると複雑な繰り返し制御を実装できる．\n",
    "- 常に`True`状態となる無限ループとなる場合があるので注意する．\n",
    "```"
   ]
  },
  {
   "cell_type": "markdown",
   "metadata": {},
   "source": [
    "##  `for`文によるリストの作成\n",
    "繰り返し処理はリストの作成にも利用できる．\n",
    "\n",
    "具体的に，空のリストに`append`関数を使って`for`文と`range`関数による繰り返し処理から得られる数値を追加することでリストを作成できる．\n",
    "\n",
    "以下に$0$から$9$までの計10個の要素を持つリストを`for`文を利用するコードを示す．"
   ]
  },
  {
   "cell_type": "code",
   "execution_count": null,
   "metadata": {},
   "outputs": [],
   "source": [
    "l = []\n",
    "for i in range(10):\n",
    "    l.append(i)\n",
    "print(l)"
   ]
  },
  {
   "cell_type": "markdown",
   "metadata": {},
   "source": [
    "上記のコードでは，要素が空のリスト `l=[]` を作成し，繰り返し処理で得られる $i=0,1,...,9$ の値をリストに`append`している．リストを出力した結果が `[0, 1, 2, 3, 4, 5, 6, 7, 8, 9]` となっていることを確認されたい．\n",
    "\n",
    "また，特定の条件を満たすリストや数値以外のリストを作成する際に便利である．例えば，$3$で割り切れない数値のみを持つリストを作成してみよう．これは前述のコードに条件分岐を組み合わせることで実現できる．\n",
    "\n",
    "以下に`for`文による$3$で割り切れない数値のみを持つリストの作成コードを示す．"
   ]
  },
  {
   "cell_type": "code",
   "execution_count": null,
   "metadata": {},
   "outputs": [],
   "source": [
    "l = []\n",
    "for i in range(10):\n",
    "    if i % 3 == 0:\n",
    "        continue\n",
    "    l.append(i)\n",
    "print(l)"
   ]
  },
  {
   "cell_type": "markdown",
   "metadata": {},
   "source": [
    "上記のコードは，$3$ で割り切れないときのみ値を `append` し，割り切れる場合は `continue` 文を用いて以降の処理をスキップして次の繰り返しに移行する．結果を出力すると，$3$の倍数を除いたリスト `[1, 2, 4, 5, 7, 8]` が作成されていることがわかる．"
   ]
  },
  {
   "cell_type": "markdown",
   "metadata": {},
   "source": [
    "---"
   ]
  },
  {
   "cell_type": "markdown",
   "metadata": {},
   "source": [
    "## 【発展】多重ループ\n",
    "`for`文の応用として，複数のオブジェクトの要素を繰り返す**多重ループ**がある．多重ループは**ネストループ**とも呼ばれ，2重だけでなく3重以上のループも実装できる．このような多重ループは，例えば，2つの要素集合のリスト間の組み合わせを出力する場面で利用できる．"
   ]
  },
  {
   "cell_type": "markdown",
   "metadata": {},
   "source": [
    "以下は集合$A=\\{a,b,c\\}$と集合$B=\\{x,y,z\\}$間の組み合わせ出力する多重ループのサンプルコードである．各集合はリストとして実装し，2重ループとして，各組み合わせを`print`文で出力する．"
   ]
  },
  {
   "cell_type": "code",
   "execution_count": null,
   "metadata": {},
   "outputs": [],
   "source": [
    "A = ['a', 'b', 'c']\n",
    "B = ['x', 'y', 'z']\n",
    "\n",
    "for i in A:\n",
    "    for j in B:\n",
    "        print(i, j)"
   ]
  },
  {
   "cell_type": "markdown",
   "metadata": {},
   "source": [
    "```{tip} \n",
    "多重ループは後述の`while`文，`break`文，`continue`文と組み合わせると便利である．しかしながら，多重ループはコードの可読性を下げるため多用は厳禁である．Pythonには [`itertools`](https://docs.python.org/ja/3/library/itertools.html) を代表とするループ処理のライブラリも提供されており，複雑なループを実装したいときに便利である．\n",
    "```"
   ]
  },
  {
   "cell_type": "markdown",
   "metadata": {},
   "source": [
    "## 【発展】イテレータ\n",
    "厳密にはPythonにおいて`range`関数は **イテレータ** と呼ばれる仕組みである．イテレータは次の要素を順番に取り出し，読み出し可能な要素がなくなったときに終了変数を返すような機能を持つ．\n",
    "\n",
    "`range`関数を`print`してみるとリストのように中身の要素が出力されないことに注意されたい．"
   ]
  },
  {
   "cell_type": "code",
   "execution_count": null,
   "metadata": {},
   "outputs": [],
   "source": [
    "print(range(3))"
   ]
  },
  {
   "cell_type": "code",
   "execution_count": null,
   "metadata": {},
   "outputs": [],
   "source": [
    "print(type(range(3)))"
   ]
  },
  {
   "cell_type": "markdown",
   "metadata": {},
   "source": [
    "`range`関数から直接にリストやタプルが作成できると便利である．[データ型の変換](../02/variables_and_data_types.html)を利用すると`range`関数からリストやタプルが作成できる．"
   ]
  },
  {
   "cell_type": "code",
   "execution_count": null,
   "metadata": {},
   "outputs": [],
   "source": [
    "x = list(range(3))\n",
    "print(x)"
   ]
  },
  {
   "cell_type": "code",
   "execution_count": null,
   "metadata": {},
   "outputs": [],
   "source": [
    "x = tuple(range(3))\n",
    "print(x)"
   ]
  },
  {
   "cell_type": "markdown",
   "metadata": {},
   "source": [
    "リストをイテレータ化して，順番に取り出すこともできる．具体的に，\n",
    "1. `iter()` にリストを渡しイテレータ化\n",
    "2. 返ってきたイテレータに対して`next()`を使って呼び出し\n",
    "3. 終了変数 `StopIteration` が発生するまで繰り返し\n",
    "となる\n",
    "\n",
    "以下のコードで確認されたい．"
   ]
  },
  {
   "cell_type": "code",
   "execution_count": null,
   "metadata": {},
   "outputs": [],
   "source": [
    "l = [3, 2, 1, 0]\n",
    "l = iter(l)\n",
    "print(next(l))\n",
    "print(next(l))\n",
    "print(next(l))\n",
    "print(next(l))\n",
    "# print(next(l)) # StopIterationのエラーが発生する"
   ]
  },
  {
   "cell_type": "markdown",
   "metadata": {},
   "source": [
    "## 【発展】`enumerate`関数\n",
    "`enumerate`関数は`for`文や`while`文と同様に繰り返し処理のためのPythonの組み込み関数である．`enumerate`関数はループの回数（=要素の数）をカウントする利用場面で便利である．その具体例を以下のセルに示す．"
   ]
  },
  {
   "cell_type": "code",
   "execution_count": null,
   "metadata": {},
   "outputs": [],
   "source": [
    "i = 0\n",
    "for v in ['a', 'b', 'c']:\n",
    "    print(i, v)\n",
    "    i += 1"
   ]
  },
  {
   "cell_type": "markdown",
   "metadata": {},
   "source": [
    "ループと共にその回数をカウントしたいとき，上のコードのようにカウント用の変数`i`を定義して，ループ処理のたびに`i`のカウント数を$+1$する必要がある．このようなカウントは以下のように`range`関数でも実現できるが，多重ループでのカウントなどでコードの可読性が下がる可能性がある．"
   ]
  },
  {
   "cell_type": "code",
   "execution_count": null,
   "metadata": {},
   "outputs": [],
   "source": [
    "l = ['a', 'b', 'c']\n",
    "for i in range(len(l)):\n",
    "    print(i, l[i])"
   ]
  },
  {
   "cell_type": "markdown",
   "metadata": {},
   "source": [
    "`enumerate`関数は以下のように定義することで要素のカウントとループを同時に行うことができる．\n",
    "\n",
    "```python\n",
    "for カウント, 要素 in enumerate(リスト):\n",
    "    処理\n",
    "```\n",
    "\n",
    "`for`文でリストや`range`関数を`enumerate`関数に置き換えるだけで実装でき，多重ループであっても可読性は高い．以下のセルに前述の`for`文でのループ数のカウントを`enumerate`関数で置き換えたコードを示す．"
   ]
  },
  {
   "cell_type": "code",
   "execution_count": null,
   "metadata": {},
   "outputs": [],
   "source": [
    "for i, v in enumerate(['a', 'b', 'c']):\n",
    "    print(i, v)"
   ]
  },
  {
   "cell_type": "markdown",
   "metadata": {},
   "source": [
    "## 【発展】`zip`関数\n",
    "`zip`関数は複数の反復可能なオブジェクトの繰り返し処理をしたいときに便利である．多重ループでの例のように，集合 $A=\\{a,b,c\\}$ と集合 $B=\\{x,y,z\\}$ について各要素を順番に取り出す処理を考える．望まれる出力は以下である．\n",
    "\n",
    "```\n",
    "a x\n",
    "b y\n",
    "c z\n",
    "```\n",
    "\n",
    "このような出力を`for`文で実現したいとき要素のインデックスを要素数分だけ繰り返す`range`関数を作成すれば良い．以下が参考例である．"
   ]
  },
  {
   "cell_type": "code",
   "execution_count": null,
   "metadata": {},
   "outputs": [],
   "source": [
    "A = ['a', 'b', 'c']\n",
    "B = ['x', 'y', 'z']\n",
    "for i in range(len(A)):\n",
    "    print(A[i], B[i])"
   ]
  },
  {
   "cell_type": "markdown",
   "metadata": {},
   "source": [
    "`enumerate`関数の利用例とは異なり，既に可読性の高い繰り返し処理が`for`文で実現できている．シンプルな処理であれば十分であるが，要素数が異なる複数のオブジェクトを反復させたい場合や機械学習など大規模なプログラムを作成時に非効率的になる可能性がある．実際に，要素数が異なる複数オブジェクトを上記のように`for`文で繰り返し処理をしようとすると，少ない要素数のオブジェクトで参照エラーが発生する．"
   ]
  },
  {
   "cell_type": "code",
   "execution_count": null,
   "metadata": {},
   "outputs": [],
   "source": [
    "# A = ['a', 'b', 'c', 'd']\n",
    "# B = ['x', 'y', 'z']\n",
    "# for i in range(len(A)):\n",
    "#     print(A[i], B[i])"
   ]
  },
  {
   "cell_type": "markdown",
   "metadata": {},
   "source": [
    "上記の例では集合$A$と$B$の要素数を予め取得し，少ない要素数を持つ集合に対して`range`関数を作成すれば良いが，Pythonにはこのような処理をすることなく複数オブジェクトを同時に反復する効率的な組み込み関数が提供されている．リストの場合，`zip`関数は以下のように定義できる．\n",
    "\n",
    "```python\n",
    "for リストAの要素, リストBの要素, ... in zip(リストA, リストB, ...):\n",
    "    処理\n",
    "```\n",
    "\n",
    "`zip`関数ではオブジェクトの要素数が異なる場合はもっとも少ない要素数を持つオブジェクトを基準に繰り返し処理がなされる．以降のセルに，等しい要素数を持つ反復と異なる要素数を持つ反復の例を示す．"
   ]
  },
  {
   "cell_type": "code",
   "execution_count": null,
   "metadata": {},
   "outputs": [],
   "source": [
    "for u, v in zip(['a', 'b', 'c'], ['x', 'y', 'z']):\n",
    "    print(u, v)"
   ]
  },
  {
   "cell_type": "code",
   "execution_count": null,
   "metadata": {},
   "outputs": [],
   "source": [
    "for u, v in zip(['a', 'b', 'c', 'd'], ['x', 'y', 'z']):\n",
    "    print(u, v)"
   ]
  },
  {
   "cell_type": "markdown",
   "metadata": {},
   "source": [
    "## 【発展】辞書と`for`文\n",
    "辞書を用いた繰り返し処理を紹介する．これまではリスト型を中心に繰り返し処理を説明したが，ここでは，辞書を用いた繰り返し処理を紹介する．辞書は変数`key`に基づいて値`value`を参照するデータ型である．辞書は反復可能なイテラブルなデータ型であるため，`len`関数がサポートされているが，リストのように要素の順番を示すインデックス変数`i`を利用した参照ができない．このような辞書型であってもシンプルかつ効果的に繰り返し処理をするための関数が提供されている．"
   ]
  },
  {
   "cell_type": "markdown",
   "metadata": {},
   "source": [
    "以降のセルでは第2回の講義で紹介した辞書の値のみ，キーワードのみ，またはその両方を取得する関数を復習し，`for`文による繰り返し処理を紹介する．"
   ]
  },
  {
   "cell_type": "code",
   "execution_count": null,
   "metadata": {},
   "outputs": [],
   "source": [
    "d = {'key1': 1, 'key2': 2, 'key3': 3}\n",
    "print(d)"
   ]
  },
  {
   "cell_type": "markdown",
   "metadata": {},
   "source": [
    "辞書の要素にアクセスするためのキーワードは`辞書.keys()`で取得できる．以下のように記述することで辞書のキーワードを繰り返すことができる．"
   ]
  },
  {
   "cell_type": "code",
   "execution_count": null,
   "metadata": {},
   "outputs": [],
   "source": [
    "for key in d.keys():\n",
    "    print(key, d[key])"
   ]
  },
  {
   "cell_type": "markdown",
   "metadata": {},
   "source": [
    "辞書のキーワードによって参照される値は`辞書.values()`で取得できる．以下のように記述することで辞書の値を繰り返すことができる．"
   ]
  },
  {
   "cell_type": "code",
   "execution_count": null,
   "metadata": {},
   "outputs": [],
   "source": [
    "for value in d.values():\n",
    "    print(value)"
   ]
  },
  {
   "cell_type": "markdown",
   "metadata": {},
   "source": [
    "`辞書.items()`で辞書のキーワードと値を同時に取得できる．同様に`for`文と組み合わせることで辞書のキーワードと値を同時に繰り返すことができる．"
   ]
  },
  {
   "cell_type": "code",
   "execution_count": null,
   "metadata": {},
   "outputs": [],
   "source": [
    "for key, value in d.items():\n",
    "    print(key, value)"
   ]
  },
  {
   "cell_type": "markdown",
   "metadata": {},
   "source": [
    "## 【発展】内包表記\n",
    "前述した`for`文によるリストの作成は便利であるが，コードはやや煩雑となる．Pythonでは**内包表記**と呼ばれる文法が定義されており，非常にシンプルかつ高速にリストの作成ができる．以下に，$0$から$9$までの計10個の要素を持つリストを内包表記で作成するコードを示す．"
   ]
  },
  {
   "cell_type": "code",
   "execution_count": null,
   "metadata": {},
   "outputs": [],
   "source": [
    "l = [i for i in range(10)]\n",
    "print(l)"
   ]
  },
  {
   "cell_type": "markdown",
   "metadata": {},
   "source": [
    "出力結果とコードからわかるように，3行の処理が1行でリストを作成できる．続いて，`for`文による$3$で割り切れない数値のみを持つリストの作成コードを示す．ここでは条件分岐を行うために，以下のように3項演算子と同様の表記の条件式を繰り返し処理の後ろに記述する．"
   ]
  },
  {
   "cell_type": "code",
   "execution_count": null,
   "metadata": {},
   "outputs": [],
   "source": [
    "l = [i for i in range(10) if i % 3 != 0]\n",
    "print(l)"
   ]
  },
  {
   "cell_type": "markdown",
   "metadata": {},
   "source": [
    "上記の内包表記は条件式`i % 3 != 0`が`True`のときに$i$を追加する処理となっている．内包表記は多重ループに対しても利用できるが可読性が著しく下がるため推奨されない．また，内包表記はリストだけでなく辞書も作成できる．以下に，`zip`文を応用した辞書の内包表記の例を示す．"
   ]
  },
  {
   "cell_type": "code",
   "execution_count": null,
   "metadata": {},
   "outputs": [],
   "source": [
    "d = {k: v for k, v in zip(['key1', 'key2', 'key3'], [1, 2, 3])}\n",
    "print(d)"
   ]
  },
  {
   "cell_type": "markdown",
   "metadata": {},
   "source": []
  }
 ],
 "metadata": {
  "kernelspec": {
   "display_name": "ml-py39",
   "language": "python",
   "name": "python3"
  },
  "language_info": {
   "codemirror_mode": {
    "name": "ipython",
    "version": 3
   },
   "file_extension": ".py",
   "mimetype": "text/x-python",
   "name": "python",
   "nbconvert_exporter": "python",
   "pygments_lexer": "ipython3",
   "version": "3.9.13"
  }
 },
 "nbformat": 4,
 "nbformat_minor": 2
}
